{
 "cells": [
  {
   "cell_type": "markdown",
   "metadata": {
    "collapsed": true,
    "pycharm": {
     "name": "#%% md\n"
    }
   },
   "source": [
    "# Урок 7. Интерпретация прогнозов модели (SHAP): объясняем поведение модели на отдельных наблюдениях"
   ]
  },
  {
   "cell_type": "code",
   "execution_count": 53,
   "outputs": [],
   "source": [
    "# Подключаем библиотеки\n",
    "\n",
    "import pandas as pd\n",
    "import numpy as np\n",
    "import functions as func\n",
    "from sklearn.model_selection import train_test_split\n",
    "\n",
    "import h2o\n",
    "from h2o.estimators.glm import H2OGeneralizedLinearEstimator\n",
    "\n",
    "from sklearn.metrics import accuracy_score, f1_score, confusion_matrix, precision_score, recall_score, roc_auc_score, log_loss"
   ],
   "metadata": {
    "collapsed": false,
    "pycharm": {
     "name": "#%%\n"
    }
   }
  },
  {
   "cell_type": "markdown",
   "source": [
    "## 1. Построить обобщенную линейную модель (GLM) для прогнозирования наступления страховых случаев на рассмотренных в ноутбуке данных.\n",
    "## 2. Подобрать необходимое распределение и тип связи, при необходимости ознакомиться с документацией H2O.\n",
    "## 3. Придумать и использовать дополнительные факторы при построении модели (например, пересечения признаков или функции от них и т.д.).\n",
    "## 4. Оценить результаты построенной модели при помощи различных метрик (можно использовать и другие метрики помимо представленных в ноутбуке), проанализировать вероятные проблемы.\n",
    "## 5. Предложить способы их решения и/или попробовать их решить, улучшив результат"
   ],
   "metadata": {
    "collapsed": false,
    "pycharm": {
     "name": "#%% md\n"
    }
   }
  },
  {
   "cell_type": "code",
   "execution_count": 27,
   "outputs": [],
   "source": [
    "df = pd.read_csv('freMPL-R.csv', low_memory = False)"
   ],
   "metadata": {
    "collapsed": false,
    "pycharm": {
     "name": "#%%\n"
    }
   }
  },
  {
   "cell_type": "code",
   "execution_count": 28,
   "outputs": [],
   "source": [
    "df = df.loc[df.Dataset.isin([5, 6, 7, 8, 9])]\n",
    "df.drop('Dataset', axis = 1, inplace = True)\n",
    "df.dropna(axis = 1, how = 'all', inplace = True)\n",
    "df.drop_duplicates(inplace = True)\n",
    "df.reset_index(drop = True, inplace = True)"
   ],
   "metadata": {
    "collapsed": false,
    "pycharm": {
     "name": "#%%\n"
    }
   }
  },
  {
   "cell_type": "code",
   "execution_count": 29,
   "outputs": [
    {
     "name": "stdout",
     "output_type": "stream",
     "text": [
      "<class 'pandas.core.frame.DataFrame'>\n",
      "RangeIndex: 115155 entries, 0 to 115154\n",
      "Data columns (total 20 columns):\n",
      "Exposure             115155 non-null float64\n",
      "LicAge               115155 non-null int64\n",
      "RecordBeg            115155 non-null object\n",
      "RecordEnd            59455 non-null object\n",
      "Gender               115155 non-null object\n",
      "MariStat             115155 non-null object\n",
      "SocioCateg           115155 non-null object\n",
      "VehUsage             115155 non-null object\n",
      "DrivAge              115155 non-null int64\n",
      "HasKmLimit           115155 non-null int64\n",
      "BonusMalus           115155 non-null int64\n",
      "ClaimAmount          115155 non-null float64\n",
      "ClaimInd             115155 non-null int64\n",
      "ClaimNbResp          115155 non-null float64\n",
      "ClaimNbNonResp       115155 non-null float64\n",
      "ClaimNbParking       115155 non-null float64\n",
      "ClaimNbFireTheft     115155 non-null float64\n",
      "ClaimNbWindscreen    115155 non-null float64\n",
      "OutUseNb             115155 non-null float64\n",
      "RiskArea             115155 non-null float64\n",
      "dtypes: float64(9), int64(5), object(6)\n",
      "memory usage: 14.9+ MB\n"
     ]
    }
   ],
   "source": [
    "df.info()"
   ],
   "metadata": {
    "collapsed": false,
    "pycharm": {
     "name": "#%%\n"
    }
   }
  },
  {
   "cell_type": "code",
   "execution_count": 30,
   "outputs": [
    {
     "data": {
      "text/plain": "   Exposure  LicAge   RecordBeg   RecordEnd  Gender MariStat SocioCateg  \\\n0     0.083     332  2004-01-01  2004-02-01    Male    Other      CSP50   \n1     0.916     333  2004-02-01         NaN    Male    Other      CSP50   \n2     0.550     173  2004-05-15  2004-12-03    Male    Other      CSP50   \n3     0.089     364  2004-11-29         NaN  Female    Other      CSP55   \n4     0.233     426  2004-02-07  2004-05-01    Male    Other      CSP60   \n\n                 VehUsage  DrivAge  HasKmLimit  BonusMalus  ClaimAmount  \\\n0            Professional       46           0          50          0.0   \n1            Professional       46           0          50          0.0   \n2  Private+trip to office       32           0          68          0.0   \n3  Private+trip to office       52           0          50          0.0   \n4                 Private       57           0          50          0.0   \n\n   ClaimInd  ClaimNbResp  ClaimNbNonResp  ClaimNbParking  ClaimNbFireTheft  \\\n0         0          0.0             1.0             0.0               0.0   \n1         0          0.0             1.0             0.0               0.0   \n2         0          0.0             2.0             0.0               0.0   \n3         0          0.0             0.0             0.0               0.0   \n4         0          0.0             0.0             0.0               0.0   \n\n   ClaimNbWindscreen  OutUseNb  RiskArea  \n0                0.0       0.0       9.0  \n1                0.0       0.0       9.0  \n2                0.0       0.0       7.0  \n3                0.0       0.0       8.0  \n4                0.0       0.0       7.0  ",
      "text/html": "<div>\n<style scoped>\n    .dataframe tbody tr th:only-of-type {\n        vertical-align: middle;\n    }\n\n    .dataframe tbody tr th {\n        vertical-align: top;\n    }\n\n    .dataframe thead th {\n        text-align: right;\n    }\n</style>\n<table border=\"1\" class=\"dataframe\">\n  <thead>\n    <tr style=\"text-align: right;\">\n      <th></th>\n      <th>Exposure</th>\n      <th>LicAge</th>\n      <th>RecordBeg</th>\n      <th>RecordEnd</th>\n      <th>Gender</th>\n      <th>MariStat</th>\n      <th>SocioCateg</th>\n      <th>VehUsage</th>\n      <th>DrivAge</th>\n      <th>HasKmLimit</th>\n      <th>BonusMalus</th>\n      <th>ClaimAmount</th>\n      <th>ClaimInd</th>\n      <th>ClaimNbResp</th>\n      <th>ClaimNbNonResp</th>\n      <th>ClaimNbParking</th>\n      <th>ClaimNbFireTheft</th>\n      <th>ClaimNbWindscreen</th>\n      <th>OutUseNb</th>\n      <th>RiskArea</th>\n    </tr>\n  </thead>\n  <tbody>\n    <tr>\n      <th>0</th>\n      <td>0.083</td>\n      <td>332</td>\n      <td>2004-01-01</td>\n      <td>2004-02-01</td>\n      <td>Male</td>\n      <td>Other</td>\n      <td>CSP50</td>\n      <td>Professional</td>\n      <td>46</td>\n      <td>0</td>\n      <td>50</td>\n      <td>0.0</td>\n      <td>0</td>\n      <td>0.0</td>\n      <td>1.0</td>\n      <td>0.0</td>\n      <td>0.0</td>\n      <td>0.0</td>\n      <td>0.0</td>\n      <td>9.0</td>\n    </tr>\n    <tr>\n      <th>1</th>\n      <td>0.916</td>\n      <td>333</td>\n      <td>2004-02-01</td>\n      <td>NaN</td>\n      <td>Male</td>\n      <td>Other</td>\n      <td>CSP50</td>\n      <td>Professional</td>\n      <td>46</td>\n      <td>0</td>\n      <td>50</td>\n      <td>0.0</td>\n      <td>0</td>\n      <td>0.0</td>\n      <td>1.0</td>\n      <td>0.0</td>\n      <td>0.0</td>\n      <td>0.0</td>\n      <td>0.0</td>\n      <td>9.0</td>\n    </tr>\n    <tr>\n      <th>2</th>\n      <td>0.550</td>\n      <td>173</td>\n      <td>2004-05-15</td>\n      <td>2004-12-03</td>\n      <td>Male</td>\n      <td>Other</td>\n      <td>CSP50</td>\n      <td>Private+trip to office</td>\n      <td>32</td>\n      <td>0</td>\n      <td>68</td>\n      <td>0.0</td>\n      <td>0</td>\n      <td>0.0</td>\n      <td>2.0</td>\n      <td>0.0</td>\n      <td>0.0</td>\n      <td>0.0</td>\n      <td>0.0</td>\n      <td>7.0</td>\n    </tr>\n    <tr>\n      <th>3</th>\n      <td>0.089</td>\n      <td>364</td>\n      <td>2004-11-29</td>\n      <td>NaN</td>\n      <td>Female</td>\n      <td>Other</td>\n      <td>CSP55</td>\n      <td>Private+trip to office</td>\n      <td>52</td>\n      <td>0</td>\n      <td>50</td>\n      <td>0.0</td>\n      <td>0</td>\n      <td>0.0</td>\n      <td>0.0</td>\n      <td>0.0</td>\n      <td>0.0</td>\n      <td>0.0</td>\n      <td>0.0</td>\n      <td>8.0</td>\n    </tr>\n    <tr>\n      <th>4</th>\n      <td>0.233</td>\n      <td>426</td>\n      <td>2004-02-07</td>\n      <td>2004-05-01</td>\n      <td>Male</td>\n      <td>Other</td>\n      <td>CSP60</td>\n      <td>Private</td>\n      <td>57</td>\n      <td>0</td>\n      <td>50</td>\n      <td>0.0</td>\n      <td>0</td>\n      <td>0.0</td>\n      <td>0.0</td>\n      <td>0.0</td>\n      <td>0.0</td>\n      <td>0.0</td>\n      <td>0.0</td>\n      <td>7.0</td>\n    </tr>\n  </tbody>\n</table>\n</div>"
     },
     "execution_count": 30,
     "metadata": {},
     "output_type": "execute_result"
    }
   ],
   "source": [
    "df.head()"
   ],
   "metadata": {
    "collapsed": false,
    "pycharm": {
     "name": "#%%\n"
    }
   }
  },
  {
   "cell_type": "code",
   "execution_count": 31,
   "outputs": [
    {
     "name": "stdout",
     "output_type": "stream",
     "text": [
      "Unique values of ClaimInd: [0]\n"
     ]
    },
    {
     "data": {
      "text/plain": "     ClaimAmount  ClaimInd\n82    -74.206042         0\n175 -1222.585196         0\n177  -316.288822         0\n363  -666.758610         0\n375 -1201.600604         0",
      "text/html": "<div>\n<style scoped>\n    .dataframe tbody tr th:only-of-type {\n        vertical-align: middle;\n    }\n\n    .dataframe tbody tr th {\n        vertical-align: top;\n    }\n\n    .dataframe thead th {\n        text-align: right;\n    }\n</style>\n<table border=\"1\" class=\"dataframe\">\n  <thead>\n    <tr style=\"text-align: right;\">\n      <th></th>\n      <th>ClaimAmount</th>\n      <th>ClaimInd</th>\n    </tr>\n  </thead>\n  <tbody>\n    <tr>\n      <th>82</th>\n      <td>-74.206042</td>\n      <td>0</td>\n    </tr>\n    <tr>\n      <th>175</th>\n      <td>-1222.585196</td>\n      <td>0</td>\n    </tr>\n    <tr>\n      <th>177</th>\n      <td>-316.288822</td>\n      <td>0</td>\n    </tr>\n    <tr>\n      <th>363</th>\n      <td>-666.758610</td>\n      <td>0</td>\n    </tr>\n    <tr>\n      <th>375</th>\n      <td>-1201.600604</td>\n      <td>0</td>\n    </tr>\n  </tbody>\n</table>\n</div>"
     },
     "execution_count": 31,
     "metadata": {},
     "output_type": "execute_result"
    }
   ],
   "source": [
    "# Т.к. в некоторых наблюдений ранее была замечена отрицательная величина, то для таких полюсов переменная \"ClaimInd\" принимает только значение 0.\n",
    "NegClaimAmount = df.loc[df.ClaimAmount < 0, ['ClaimAmount','ClaimInd']]\n",
    "print('Unique values of ClaimInd:', NegClaimAmount.ClaimInd.unique())\n",
    "df.loc[df.ClaimAmount < 0, 'ClaimAmount'] = 0\n",
    "NegClaimAmount.head()"
   ],
   "metadata": {
    "collapsed": false,
    "pycharm": {
     "name": "#%%\n"
    }
   }
  },
  {
   "cell_type": "code",
   "execution_count": 32,
   "outputs": [],
   "source": [
    "#Заменим все отрицательные значения \"ClaimAmount\" нулями.\n",
    "df.loc[df.ClaimAmount < 0, 'ClaimAmount'] = 0"
   ],
   "metadata": {
    "collapsed": false,
    "pycharm": {
     "name": "#%%\n"
    }
   }
  },
  {
   "cell_type": "code",
   "execution_count": 33,
   "outputs": [
    {
     "name": "stdout",
     "output_type": "stream",
     "text": [
      "{0: 'Male', 1: 'Female'}\n"
     ]
    }
   ],
   "source": [
    "df['Gender'], GenderRef = func.series_factorizer(df.Gender)"
   ],
   "metadata": {
    "collapsed": false,
    "pycharm": {
     "name": "#%%\n"
    }
   }
  },
  {
   "cell_type": "code",
   "execution_count": 34,
   "outputs": [
    {
     "name": "stdout",
     "output_type": "stream",
     "text": [
      "{0: 'Other', 1: 'Alone'}\n"
     ]
    }
   ],
   "source": [
    "df['MariStat'], MariStatRef = func.series_factorizer(df.MariStat)"
   ],
   "metadata": {
    "collapsed": false,
    "pycharm": {
     "name": "#%%\n"
    }
   }
  },
  {
   "cell_type": "code",
   "execution_count": 35,
   "outputs": [
    {
     "data": {
      "text/plain": "['Professional', 'Private+trip to office', 'Private', 'Professional run']"
     },
     "execution_count": 35,
     "metadata": {},
     "output_type": "execute_result"
    }
   ],
   "source": [
    "list(df['VehUsage'].unique())"
   ],
   "metadata": {
    "collapsed": false,
    "pycharm": {
     "name": "#%%\n"
    }
   }
  },
  {
   "cell_type": "code",
   "execution_count": 36,
   "outputs": [
    {
     "data": {
      "text/plain": "   VehUsg_Private  VehUsg_Private+trip to office  VehUsg_Professional  \\\n0               0                              0                    1   \n1               0                              0                    1   \n2               0                              1                    0   \n3               0                              1                    0   \n4               1                              0                    0   \n\n   VehUsg_Professional run  \n0                        0  \n1                        0  \n2                        0  \n3                        0  \n4                        0  ",
      "text/html": "<div>\n<style scoped>\n    .dataframe tbody tr th:only-of-type {\n        vertical-align: middle;\n    }\n\n    .dataframe tbody tr th {\n        vertical-align: top;\n    }\n\n    .dataframe thead th {\n        text-align: right;\n    }\n</style>\n<table border=\"1\" class=\"dataframe\">\n  <thead>\n    <tr style=\"text-align: right;\">\n      <th></th>\n      <th>VehUsg_Private</th>\n      <th>VehUsg_Private+trip to office</th>\n      <th>VehUsg_Professional</th>\n      <th>VehUsg_Professional run</th>\n    </tr>\n  </thead>\n  <tbody>\n    <tr>\n      <th>0</th>\n      <td>0</td>\n      <td>0</td>\n      <td>1</td>\n      <td>0</td>\n    </tr>\n    <tr>\n      <th>1</th>\n      <td>0</td>\n      <td>0</td>\n      <td>1</td>\n      <td>0</td>\n    </tr>\n    <tr>\n      <th>2</th>\n      <td>0</td>\n      <td>1</td>\n      <td>0</td>\n      <td>0</td>\n    </tr>\n    <tr>\n      <th>3</th>\n      <td>0</td>\n      <td>1</td>\n      <td>0</td>\n      <td>0</td>\n    </tr>\n    <tr>\n      <th>4</th>\n      <td>1</td>\n      <td>0</td>\n      <td>0</td>\n      <td>0</td>\n    </tr>\n  </tbody>\n</table>\n</div>"
     },
     "execution_count": 36,
     "metadata": {},
     "output_type": "execute_result"
    }
   ],
   "source": [
    "VU_dummies = pd.get_dummies(df['VehUsage'], prefix = 'VehUsg', drop_first = False)\n",
    "VU_dummies.head()"
   ],
   "metadata": {
    "collapsed": false,
    "pycharm": {
     "name": "#%%\n"
    }
   }
  },
  {
   "cell_type": "code",
   "execution_count": 37,
   "outputs": [
    {
     "data": {
      "text/plain": "      Frequency\nCSP7         14\nCSP3       1210\nCSP1       2740\nCSP2       3254\nCSP4       7648\nCSP6      24833\nCSP5      75456",
      "text/html": "<div>\n<style scoped>\n    .dataframe tbody tr th:only-of-type {\n        vertical-align: middle;\n    }\n\n    .dataframe tbody tr th {\n        vertical-align: top;\n    }\n\n    .dataframe thead th {\n        text-align: right;\n    }\n</style>\n<table border=\"1\" class=\"dataframe\">\n  <thead>\n    <tr style=\"text-align: right;\">\n      <th></th>\n      <th>Frequency</th>\n    </tr>\n  </thead>\n  <tbody>\n    <tr>\n      <th>CSP7</th>\n      <td>14</td>\n    </tr>\n    <tr>\n      <th>CSP3</th>\n      <td>1210</td>\n    </tr>\n    <tr>\n      <th>CSP1</th>\n      <td>2740</td>\n    </tr>\n    <tr>\n      <th>CSP2</th>\n      <td>3254</td>\n    </tr>\n    <tr>\n      <th>CSP4</th>\n      <td>7648</td>\n    </tr>\n    <tr>\n      <th>CSP6</th>\n      <td>24833</td>\n    </tr>\n    <tr>\n      <th>CSP5</th>\n      <td>75456</td>\n    </tr>\n  </tbody>\n</table>\n</div>"
     },
     "execution_count": 37,
     "metadata": {},
     "output_type": "execute_result"
    }
   ],
   "source": [
    "df['SocioCateg'] = df['SocioCateg'].str.slice(0,4)\n",
    "pd.DataFrame(df.SocioCateg.value_counts().sort_values()).rename({'SocioCateg': 'Frequency'}, axis = 1)"
   ],
   "metadata": {
    "collapsed": false,
    "pycharm": {
     "name": "#%%\n"
    }
   }
  },
  {
   "cell_type": "code",
   "execution_count": 38,
   "outputs": [],
   "source": [
    "df = pd.get_dummies(df, columns=['VehUsage','SocioCateg'])"
   ],
   "metadata": {
    "collapsed": false,
    "pycharm": {
     "name": "#%%\n"
    }
   }
  },
  {
   "cell_type": "code",
   "execution_count": 39,
   "outputs": [],
   "source": [
    "df = df.select_dtypes(exclude=['object'])"
   ],
   "metadata": {
    "collapsed": false,
    "pycharm": {
     "name": "#%%\n"
    }
   }
  },
  {
   "cell_type": "code",
   "execution_count": 40,
   "outputs": [
    {
     "data": {
      "text/plain": "   Exposure  LicAge  Gender  MariStat  DrivAge  HasKmLimit  BonusMalus  \\\n0     0.083     332       0         0       46           0          50   \n1     0.916     333       0         0       46           0          50   \n2     0.550     173       0         0       32           0          68   \n3     0.089     364       1         0       52           0          50   \n4     0.233     426       0         0       57           0          50   \n\n   ClaimAmount  ClaimInd  ClaimNbResp  ...  SocioCateg_CSP4  SocioCateg_CSP5  \\\n0          0.0         0          0.0  ...                0                1   \n1          0.0         0          0.0  ...                0                1   \n2          0.0         0          0.0  ...                0                1   \n3          0.0         0          0.0  ...                0                1   \n4          0.0         0          0.0  ...                0                0   \n\n   SocioCateg_CSP6  SocioCateg_CSP7  DrivAgeSq  LicAgeSq  BonusMalusSq  \\\n0                0                0       2116    110224          2500   \n1                0                0       2116    110889          2500   \n2                0                0       1024     29929          4624   \n3                0                0       2704    132496          2500   \n4                1                0       3249    181476          2500   \n\n   DrivAgeLog  LicAgeLog  BonusMalusLog  \n0    3.828641   5.805135       3.912023  \n1    3.828641   5.808142       3.912023  \n2    3.465736   5.153292       4.219508  \n3    3.951244   5.897154       3.912023  \n4    4.043051   6.054439       3.912023  \n\n[5 rows x 33 columns]",
      "text/html": "<div>\n<style scoped>\n    .dataframe tbody tr th:only-of-type {\n        vertical-align: middle;\n    }\n\n    .dataframe tbody tr th {\n        vertical-align: top;\n    }\n\n    .dataframe thead th {\n        text-align: right;\n    }\n</style>\n<table border=\"1\" class=\"dataframe\">\n  <thead>\n    <tr style=\"text-align: right;\">\n      <th></th>\n      <th>Exposure</th>\n      <th>LicAge</th>\n      <th>Gender</th>\n      <th>MariStat</th>\n      <th>DrivAge</th>\n      <th>HasKmLimit</th>\n      <th>BonusMalus</th>\n      <th>ClaimAmount</th>\n      <th>ClaimInd</th>\n      <th>ClaimNbResp</th>\n      <th>...</th>\n      <th>SocioCateg_CSP4</th>\n      <th>SocioCateg_CSP5</th>\n      <th>SocioCateg_CSP6</th>\n      <th>SocioCateg_CSP7</th>\n      <th>DrivAgeSq</th>\n      <th>LicAgeSq</th>\n      <th>BonusMalusSq</th>\n      <th>DrivAgeLog</th>\n      <th>LicAgeLog</th>\n      <th>BonusMalusLog</th>\n    </tr>\n  </thead>\n  <tbody>\n    <tr>\n      <th>0</th>\n      <td>0.083</td>\n      <td>332</td>\n      <td>0</td>\n      <td>0</td>\n      <td>46</td>\n      <td>0</td>\n      <td>50</td>\n      <td>0.0</td>\n      <td>0</td>\n      <td>0.0</td>\n      <td>...</td>\n      <td>0</td>\n      <td>1</td>\n      <td>0</td>\n      <td>0</td>\n      <td>2116</td>\n      <td>110224</td>\n      <td>2500</td>\n      <td>3.828641</td>\n      <td>5.805135</td>\n      <td>3.912023</td>\n    </tr>\n    <tr>\n      <th>1</th>\n      <td>0.916</td>\n      <td>333</td>\n      <td>0</td>\n      <td>0</td>\n      <td>46</td>\n      <td>0</td>\n      <td>50</td>\n      <td>0.0</td>\n      <td>0</td>\n      <td>0.0</td>\n      <td>...</td>\n      <td>0</td>\n      <td>1</td>\n      <td>0</td>\n      <td>0</td>\n      <td>2116</td>\n      <td>110889</td>\n      <td>2500</td>\n      <td>3.828641</td>\n      <td>5.808142</td>\n      <td>3.912023</td>\n    </tr>\n    <tr>\n      <th>2</th>\n      <td>0.550</td>\n      <td>173</td>\n      <td>0</td>\n      <td>0</td>\n      <td>32</td>\n      <td>0</td>\n      <td>68</td>\n      <td>0.0</td>\n      <td>0</td>\n      <td>0.0</td>\n      <td>...</td>\n      <td>0</td>\n      <td>1</td>\n      <td>0</td>\n      <td>0</td>\n      <td>1024</td>\n      <td>29929</td>\n      <td>4624</td>\n      <td>3.465736</td>\n      <td>5.153292</td>\n      <td>4.219508</td>\n    </tr>\n    <tr>\n      <th>3</th>\n      <td>0.089</td>\n      <td>364</td>\n      <td>1</td>\n      <td>0</td>\n      <td>52</td>\n      <td>0</td>\n      <td>50</td>\n      <td>0.0</td>\n      <td>0</td>\n      <td>0.0</td>\n      <td>...</td>\n      <td>0</td>\n      <td>1</td>\n      <td>0</td>\n      <td>0</td>\n      <td>2704</td>\n      <td>132496</td>\n      <td>2500</td>\n      <td>3.951244</td>\n      <td>5.897154</td>\n      <td>3.912023</td>\n    </tr>\n    <tr>\n      <th>4</th>\n      <td>0.233</td>\n      <td>426</td>\n      <td>0</td>\n      <td>0</td>\n      <td>57</td>\n      <td>0</td>\n      <td>50</td>\n      <td>0.0</td>\n      <td>0</td>\n      <td>0.0</td>\n      <td>...</td>\n      <td>0</td>\n      <td>0</td>\n      <td>1</td>\n      <td>0</td>\n      <td>3249</td>\n      <td>181476</td>\n      <td>2500</td>\n      <td>4.043051</td>\n      <td>6.054439</td>\n      <td>3.912023</td>\n    </tr>\n  </tbody>\n</table>\n<p>5 rows × 33 columns</p>\n</div>"
     },
     "execution_count": 40,
     "metadata": {},
     "output_type": "execute_result"
    }
   ],
   "source": [
    "df['DrivAgeSq'] = df.DrivAge.apply(lambda x: x**2)\n",
    "df['LicAgeSq'] = df.LicAge.apply(lambda x: x**2)\n",
    "df['BonusMalusSq'] = df.BonusMalus.apply(lambda x: x**2)\n",
    "df['DrivAgeLog'] = df.DrivAge.apply(lambda x: np.log(x))\n",
    "df['LicAgeLog'] = df.LicAge.apply(lambda x: np.log(x))\n",
    "df['BonusMalusLog'] = df.BonusMalus.apply(lambda x: np.log(x))\n",
    "df.head()"
   ],
   "metadata": {
    "collapsed": false,
    "pycharm": {
     "name": "#%%\n"
    }
   }
  },
  {
   "cell_type": "code",
   "execution_count": 41,
   "outputs": [],
   "source": [
    "df.drop([\"ClaimNbResp\", \"ClaimNbNonResp\", \"ClaimNbParking\", \"ClaimNbFireTheft\", \"ClaimNbWindscreen\"], axis = 1, inplace = True)\n"
   ],
   "metadata": {
    "collapsed": false,
    "pycharm": {
     "name": "#%%\n"
    }
   }
  },
  {
   "cell_type": "code",
   "execution_count": 42,
   "outputs": [],
   "source": [
    "x_train, x_test, y_train, y_test = train_test_split(df.drop(['ClaimInd', 'ClaimAmount'], axis = 1), df.ClaimInd, test_size = 0.3, random_state = 1)\n",
    "x_valid, x_test, y_valid, y_test = train_test_split(x_test, y_test, test_size = 0.5, random_state = 1)"
   ],
   "metadata": {
    "collapsed": false,
    "pycharm": {
     "name": "#%%\n"
    }
   }
  },
  {
   "cell_type": "code",
   "execution_count": 43,
   "outputs": [
    {
     "name": "stdout",
     "output_type": "stream",
     "text": [
      "Checking whether there is an H2O instance running at http://localhost:54321 . connected.\n"
     ]
    },
    {
     "data": {
      "text/plain": "--------------------------  ---------------------------------------------------------\nH2O_cluster_uptime:         3 mins 03 secs\nH2O_cluster_timezone:       Asia/Krasnoyarsk\nH2O_data_parsing_timezone:  UTC\nH2O_cluster_version:        3.30.1.3\nH2O_cluster_version_age:    1 month and 27 days\nH2O_cluster_name:           H2O_from_python_vlad_65zfg0\nH2O_cluster_total_nodes:    1\nH2O_cluster_free_memory:    3.538 Gb\nH2O_cluster_total_cores:    12\nH2O_cluster_allowed_cores:  12\nH2O_cluster_status:         locked, healthy\nH2O_connection_url:         http://localhost:54321\nH2O_connection_proxy:       {\"http\": null, \"https\": null}\nH2O_internal_security:      False\nH2O_API_Extensions:         Amazon S3, Algos, AutoML, Core V3, TargetEncoder, Core V4\nPython_version:             3.7.3 final\n--------------------------  ---------------------------------------------------------",
      "text/html": "<div style=\"overflow:auto\"><table style=\"width:50%\"><tr><td>H2O_cluster_uptime:</td>\n<td>3 mins 03 secs</td></tr>\n<tr><td>H2O_cluster_timezone:</td>\n<td>Asia/Krasnoyarsk</td></tr>\n<tr><td>H2O_data_parsing_timezone:</td>\n<td>UTC</td></tr>\n<tr><td>H2O_cluster_version:</td>\n<td>3.30.1.3</td></tr>\n<tr><td>H2O_cluster_version_age:</td>\n<td>1 month and 27 days </td></tr>\n<tr><td>H2O_cluster_name:</td>\n<td>H2O_from_python_vlad_65zfg0</td></tr>\n<tr><td>H2O_cluster_total_nodes:</td>\n<td>1</td></tr>\n<tr><td>H2O_cluster_free_memory:</td>\n<td>3.538 Gb</td></tr>\n<tr><td>H2O_cluster_total_cores:</td>\n<td>12</td></tr>\n<tr><td>H2O_cluster_allowed_cores:</td>\n<td>12</td></tr>\n<tr><td>H2O_cluster_status:</td>\n<td>locked, healthy</td></tr>\n<tr><td>H2O_connection_url:</td>\n<td>http://localhost:54321</td></tr>\n<tr><td>H2O_connection_proxy:</td>\n<td>{\"http\": null, \"https\": null}</td></tr>\n<tr><td>H2O_internal_security:</td>\n<td>False</td></tr>\n<tr><td>H2O_API_Extensions:</td>\n<td>Amazon S3, Algos, AutoML, Core V3, TargetEncoder, Core V4</td></tr>\n<tr><td>Python_version:</td>\n<td>3.7.3 final</td></tr></table></div>"
     },
     "metadata": {},
     "output_type": "display_data"
    }
   ],
   "source": [
    "h2o.init()"
   ],
   "metadata": {
    "collapsed": false,
    "pycharm": {
     "name": "#%%\n"
    }
   }
  },
  {
   "cell_type": "code",
   "execution_count": 44,
   "outputs": [
    {
     "name": "stdout",
     "output_type": "stream",
     "text": [
      "Parse progress: |█████████████████████████████████████████████████████████| 100%\n",
      "Parse progress: |█████████████████████████████████████████████████████████| 100%\n",
      "Parse progress: |█████████████████████████████████████████████████████████| 100%\n"
     ]
    }
   ],
   "source": [
    "# Преобразование в H2O-Frame\n",
    "\n",
    "h2o_train = h2o.H2OFrame(pd.concat([x_train, y_train], axis = 1))\n",
    "h2o_valid = h2o.H2OFrame(pd.concat([x_valid, y_valid], axis = 1))\n",
    "h2o_test = h2o.H2OFrame(pd.concat([x_test, y_test], axis = 1))"
   ],
   "metadata": {
    "collapsed": false,
    "pycharm": {
     "name": "#%%\n"
    }
   }
  },
  {
   "cell_type": "code",
   "execution_count": 45,
   "outputs": [],
   "source": [
    "# Преобразуем целевую переменную ClaimInd в категориальную при помощи метода asfactor во всех наборах данных\n",
    "\n",
    "h2o_train['ClaimInd'] = h2o_train['ClaimInd'].asfactor()\n",
    "h2o_valid['ClaimInd'] = h2o_valid['ClaimInd'].asfactor()\n",
    "h2o_test['ClaimInd'] = h2o_test['ClaimInd'].asfactor()"
   ],
   "metadata": {
    "collapsed": false,
    "pycharm": {
     "name": "#%%\n"
    }
   }
  },
  {
   "cell_type": "code",
   "execution_count": 46,
   "outputs": [
    {
     "name": "stdout",
     "output_type": "stream",
     "text": [
      "glm Model Build progress: |███████████████████████████████████████████████| 100%\n"
     ]
    }
   ],
   "source": [
    "# Инициализируем и обучим GLM модель c кросс-валидацией\n",
    "\n",
    "glm = H2OGeneralizedLinearEstimator(family = \"binomial\", link = \"logit\", nfolds = 5)\n",
    "glm.train(y = \"ClaimInd\", x = h2o_train.names[:-1], training_frame = h2o_train, validation_frame = h2o_valid)"
   ],
   "metadata": {
    "collapsed": false,
    "pycharm": {
     "name": "#%%\n"
    }
   }
  },
  {
   "cell_type": "code",
   "execution_count": 47,
   "outputs": [
    {
     "name": "stdout",
     "output_type": "stream",
     "text": [
      "\n",
      "GLM Model: summary\n"
     ]
    },
    {
     "data": {
      "text/plain": "       family   link                                 regularization  \\\n0    binomial  logit  Elastic Net (alpha = 0.5, lambda = 1.029E-4 )   \n\n   number_of_predictors_total number_of_active_predictors  \\\n0                          26                          20   \n\n   number_of_iterations training_frame  \n0                     3  py_2_sid_95c0  ",
      "text/html": "<div>\n<style scoped>\n    .dataframe tbody tr th:only-of-type {\n        vertical-align: middle;\n    }\n\n    .dataframe tbody tr th {\n        vertical-align: top;\n    }\n\n    .dataframe thead th {\n        text-align: right;\n    }\n</style>\n<table border=\"1\" class=\"dataframe\">\n  <thead>\n    <tr style=\"text-align: right;\">\n      <th></th>\n      <th></th>\n      <th>family</th>\n      <th>link</th>\n      <th>regularization</th>\n      <th>number_of_predictors_total</th>\n      <th>number_of_active_predictors</th>\n      <th>number_of_iterations</th>\n      <th>training_frame</th>\n    </tr>\n  </thead>\n  <tbody>\n    <tr>\n      <th>0</th>\n      <td></td>\n      <td>binomial</td>\n      <td>logit</td>\n      <td>Elastic Net (alpha = 0.5, lambda = 1.029E-4 )</td>\n      <td>26</td>\n      <td>20</td>\n      <td>3</td>\n      <td>py_2_sid_95c0</td>\n    </tr>\n  </tbody>\n</table>\n</div>"
     },
     "metadata": {},
     "output_type": "display_data"
    },
    {
     "data": {
      "text/plain": ""
     },
     "execution_count": 47,
     "metadata": {},
     "output_type": "execute_result"
    }
   ],
   "source": [
    "# Параметры модели: распределение, функция связи, гиперпараметры регуляризации, количество использованных объясняющих переменных\n",
    "\n",
    "glm.summary()"
   ],
   "metadata": {
    "collapsed": false,
    "pycharm": {
     "name": "#%%\n"
    }
   }
  },
  {
   "cell_type": "code",
   "execution_count": 48,
   "outputs": [
    {
     "data": {
      "text/plain": "                                   mean            sd   cv_1_valid  \\\n0                  accuracy  0.71418065    0.03247624   0.72154737   \n1                       auc  0.68431324  0.0069658463    0.6805083   \n2                     aucpr  0.17020948  0.0058688554    0.1755873   \n3                       err  0.28581938    0.03247624   0.27845263   \n4                 err_count      4606.2     508.37408       4470.0   \n5                  f0point5  0.19586043   0.011313735   0.20145106   \n6                        f1   0.2544363   0.009245954   0.25944334   \n7                        f2  0.36409357   0.013866703   0.36432162   \n8            lift_top_group   2.7376368    0.26609832    2.7943664   \n9                   logloss  0.29553786   0.004972236   0.30257532   \n10      max_per_class_error   0.4859157    0.05074909    0.5012739   \n11                      mcc  0.16185747   0.008332049   0.16202615   \n12  mean_per_class_accuracy  0.62462986   0.006863087   0.62221396   \n13     mean_per_class_error  0.37537017   0.006863087     0.377786   \n14                      mse  0.08275506  0.0018181569   0.08509068   \n15            null_deviance   10102.949     195.36559    10283.884   \n16                   pr_auc  0.17020948  0.0058688554    0.1755873   \n17                precision  0.16986132   0.011642583   0.17532468   \n18                       r2  0.03487162   0.003020678  0.035646576   \n19                   recall  0.51408434    0.05074909   0.49872613   \n20        residual_deviance    9528.738     189.89769     9714.483   \n21                     rmse  0.28765792  0.0031589747   0.29170308   \n22              specificity   0.7351754   0.041195273   0.74570185   \n\n     cv_2_valid   cv_3_valid  cv_4_valid   cv_5_valid  \n0     0.7513719   0.73690623   0.6813659    0.6797117  \n1     0.6951528    0.6777996  0.68092585   0.68717957  \n2     0.1774161   0.16480832  0.16760409    0.1656316  \n3    0.24862808    0.2630938  0.31863406    0.3202883  \n4        3987.0       4320.0      5188.0       5066.0  \n5     0.2130143   0.19120927  0.18604752      0.18758  \n6    0.26803744   0.24554662  0.24789794    0.2512563  \n7    0.36138615   0.34302723  0.37135163    0.3803813  \n8      2.697166    2.9715872   2.9226468    2.3024178  \n9    0.29764864   0.29035836  0.29581282   0.29129425  \n10    0.5293359   0.53351027   0.4440832    0.4213751  \n11   0.17374302   0.15244955  0.15582334   0.16524532  \n12    0.6260466   0.61536115  0.62518436   0.63434315  \n13   0.37395343   0.38463888   0.3748156   0.36565688  \n14    0.0839002  0.080632254  0.08279303   0.08135914  \n15    10194.142    10072.449   10183.996     9780.275  \n16    0.1774161   0.16480832  0.16760409    0.1656316  \n17   0.18737166   0.16662717  0.15951492   0.16046819  \n18  0.039660536  0.032665104   0.0320841  0.034301784  \n19   0.47066408    0.4664897   0.5559168    0.5786249  \n20    9546.1875     9535.368    9632.848     9214.802  \n21    0.2896553    0.2839582   0.2877378   0.28523523  \n22   0.78142905    0.7642326    0.694452   0.69006133  ",
      "text/html": "<div>\n<style scoped>\n    .dataframe tbody tr th:only-of-type {\n        vertical-align: middle;\n    }\n\n    .dataframe tbody tr th {\n        vertical-align: top;\n    }\n\n    .dataframe thead th {\n        text-align: right;\n    }\n</style>\n<table border=\"1\" class=\"dataframe\">\n  <thead>\n    <tr style=\"text-align: right;\">\n      <th></th>\n      <th></th>\n      <th>mean</th>\n      <th>sd</th>\n      <th>cv_1_valid</th>\n      <th>cv_2_valid</th>\n      <th>cv_3_valid</th>\n      <th>cv_4_valid</th>\n      <th>cv_5_valid</th>\n    </tr>\n  </thead>\n  <tbody>\n    <tr>\n      <th>0</th>\n      <td>accuracy</td>\n      <td>0.71418065</td>\n      <td>0.03247624</td>\n      <td>0.72154737</td>\n      <td>0.7513719</td>\n      <td>0.73690623</td>\n      <td>0.6813659</td>\n      <td>0.6797117</td>\n    </tr>\n    <tr>\n      <th>1</th>\n      <td>auc</td>\n      <td>0.68431324</td>\n      <td>0.0069658463</td>\n      <td>0.6805083</td>\n      <td>0.6951528</td>\n      <td>0.6777996</td>\n      <td>0.68092585</td>\n      <td>0.68717957</td>\n    </tr>\n    <tr>\n      <th>2</th>\n      <td>aucpr</td>\n      <td>0.17020948</td>\n      <td>0.0058688554</td>\n      <td>0.1755873</td>\n      <td>0.1774161</td>\n      <td>0.16480832</td>\n      <td>0.16760409</td>\n      <td>0.1656316</td>\n    </tr>\n    <tr>\n      <th>3</th>\n      <td>err</td>\n      <td>0.28581938</td>\n      <td>0.03247624</td>\n      <td>0.27845263</td>\n      <td>0.24862808</td>\n      <td>0.2630938</td>\n      <td>0.31863406</td>\n      <td>0.3202883</td>\n    </tr>\n    <tr>\n      <th>4</th>\n      <td>err_count</td>\n      <td>4606.2</td>\n      <td>508.37408</td>\n      <td>4470.0</td>\n      <td>3987.0</td>\n      <td>4320.0</td>\n      <td>5188.0</td>\n      <td>5066.0</td>\n    </tr>\n    <tr>\n      <th>5</th>\n      <td>f0point5</td>\n      <td>0.19586043</td>\n      <td>0.011313735</td>\n      <td>0.20145106</td>\n      <td>0.2130143</td>\n      <td>0.19120927</td>\n      <td>0.18604752</td>\n      <td>0.18758</td>\n    </tr>\n    <tr>\n      <th>6</th>\n      <td>f1</td>\n      <td>0.2544363</td>\n      <td>0.009245954</td>\n      <td>0.25944334</td>\n      <td>0.26803744</td>\n      <td>0.24554662</td>\n      <td>0.24789794</td>\n      <td>0.2512563</td>\n    </tr>\n    <tr>\n      <th>7</th>\n      <td>f2</td>\n      <td>0.36409357</td>\n      <td>0.013866703</td>\n      <td>0.36432162</td>\n      <td>0.36138615</td>\n      <td>0.34302723</td>\n      <td>0.37135163</td>\n      <td>0.3803813</td>\n    </tr>\n    <tr>\n      <th>8</th>\n      <td>lift_top_group</td>\n      <td>2.7376368</td>\n      <td>0.26609832</td>\n      <td>2.7943664</td>\n      <td>2.697166</td>\n      <td>2.9715872</td>\n      <td>2.9226468</td>\n      <td>2.3024178</td>\n    </tr>\n    <tr>\n      <th>9</th>\n      <td>logloss</td>\n      <td>0.29553786</td>\n      <td>0.004972236</td>\n      <td>0.30257532</td>\n      <td>0.29764864</td>\n      <td>0.29035836</td>\n      <td>0.29581282</td>\n      <td>0.29129425</td>\n    </tr>\n    <tr>\n      <th>10</th>\n      <td>max_per_class_error</td>\n      <td>0.4859157</td>\n      <td>0.05074909</td>\n      <td>0.5012739</td>\n      <td>0.5293359</td>\n      <td>0.53351027</td>\n      <td>0.4440832</td>\n      <td>0.4213751</td>\n    </tr>\n    <tr>\n      <th>11</th>\n      <td>mcc</td>\n      <td>0.16185747</td>\n      <td>0.008332049</td>\n      <td>0.16202615</td>\n      <td>0.17374302</td>\n      <td>0.15244955</td>\n      <td>0.15582334</td>\n      <td>0.16524532</td>\n    </tr>\n    <tr>\n      <th>12</th>\n      <td>mean_per_class_accuracy</td>\n      <td>0.62462986</td>\n      <td>0.006863087</td>\n      <td>0.62221396</td>\n      <td>0.6260466</td>\n      <td>0.61536115</td>\n      <td>0.62518436</td>\n      <td>0.63434315</td>\n    </tr>\n    <tr>\n      <th>13</th>\n      <td>mean_per_class_error</td>\n      <td>0.37537017</td>\n      <td>0.006863087</td>\n      <td>0.377786</td>\n      <td>0.37395343</td>\n      <td>0.38463888</td>\n      <td>0.3748156</td>\n      <td>0.36565688</td>\n    </tr>\n    <tr>\n      <th>14</th>\n      <td>mse</td>\n      <td>0.08275506</td>\n      <td>0.0018181569</td>\n      <td>0.08509068</td>\n      <td>0.0839002</td>\n      <td>0.080632254</td>\n      <td>0.08279303</td>\n      <td>0.08135914</td>\n    </tr>\n    <tr>\n      <th>15</th>\n      <td>null_deviance</td>\n      <td>10102.949</td>\n      <td>195.36559</td>\n      <td>10283.884</td>\n      <td>10194.142</td>\n      <td>10072.449</td>\n      <td>10183.996</td>\n      <td>9780.275</td>\n    </tr>\n    <tr>\n      <th>16</th>\n      <td>pr_auc</td>\n      <td>0.17020948</td>\n      <td>0.0058688554</td>\n      <td>0.1755873</td>\n      <td>0.1774161</td>\n      <td>0.16480832</td>\n      <td>0.16760409</td>\n      <td>0.1656316</td>\n    </tr>\n    <tr>\n      <th>17</th>\n      <td>precision</td>\n      <td>0.16986132</td>\n      <td>0.011642583</td>\n      <td>0.17532468</td>\n      <td>0.18737166</td>\n      <td>0.16662717</td>\n      <td>0.15951492</td>\n      <td>0.16046819</td>\n    </tr>\n    <tr>\n      <th>18</th>\n      <td>r2</td>\n      <td>0.03487162</td>\n      <td>0.003020678</td>\n      <td>0.035646576</td>\n      <td>0.039660536</td>\n      <td>0.032665104</td>\n      <td>0.0320841</td>\n      <td>0.034301784</td>\n    </tr>\n    <tr>\n      <th>19</th>\n      <td>recall</td>\n      <td>0.51408434</td>\n      <td>0.05074909</td>\n      <td>0.49872613</td>\n      <td>0.47066408</td>\n      <td>0.4664897</td>\n      <td>0.5559168</td>\n      <td>0.5786249</td>\n    </tr>\n    <tr>\n      <th>20</th>\n      <td>residual_deviance</td>\n      <td>9528.738</td>\n      <td>189.89769</td>\n      <td>9714.483</td>\n      <td>9546.1875</td>\n      <td>9535.368</td>\n      <td>9632.848</td>\n      <td>9214.802</td>\n    </tr>\n    <tr>\n      <th>21</th>\n      <td>rmse</td>\n      <td>0.28765792</td>\n      <td>0.0031589747</td>\n      <td>0.29170308</td>\n      <td>0.2896553</td>\n      <td>0.2839582</td>\n      <td>0.2877378</td>\n      <td>0.28523523</td>\n    </tr>\n    <tr>\n      <th>22</th>\n      <td>specificity</td>\n      <td>0.7351754</td>\n      <td>0.041195273</td>\n      <td>0.74570185</td>\n      <td>0.78142905</td>\n      <td>0.7642326</td>\n      <td>0.694452</td>\n      <td>0.69006133</td>\n    </tr>\n  </tbody>\n</table>\n</div>"
     },
     "execution_count": 48,
     "metadata": {},
     "output_type": "execute_result"
    }
   ],
   "source": [
    "# Метрики качества модели - по всем данным и на кросс-валидации\n",
    "\n",
    "glm.cross_validation_metrics_summary().as_data_frame()"
   ],
   "metadata": {
    "collapsed": false,
    "pycharm": {
     "name": "#%%\n"
    }
   }
  },
  {
   "cell_type": "code",
   "execution_count": 49,
   "outputs": [
    {
     "data": {
      "text/plain": "                              names  coefficients  standardized_coefficients\n0                         Intercept     -4.132658                  -2.430618\n1                          Exposure      2.105119                   0.608827\n2                            LicAge      0.000769                   0.122768\n3                            Gender      0.000000                   0.000000\n4                          MariStat     -0.107308                  -0.038657\n5                           DrivAge      0.000000                   0.000000\n6                        HasKmLimit     -0.344011                  -0.107431\n7                        BonusMalus      0.000000                   0.000000\n8                          OutUseNb      0.093155                   0.064809\n9                          RiskArea      0.006938                   0.015372\n10                 VehUsage_Private     -0.116562                  -0.055120\n11  VehUsage_Private+trip to office      0.000000                   0.000000\n12            VehUsage_Professional      0.244238                   0.080720\n13        VehUsage_Professional run      0.322394                   0.043253\n14                  SocioCateg_CSP1     -0.109096                  -0.016530\n15                  SocioCateg_CSP2     -0.263578                  -0.043911\n16                  SocioCateg_CSP3      0.120054                   0.012454\n17                  SocioCateg_CSP4      0.031232                   0.007810\n18                  SocioCateg_CSP5     -0.000633                  -0.000301\n19                  SocioCateg_CSP6      0.011788                   0.004842\n20                  SocioCateg_CSP7     -0.110944                  -0.001172\n21                        DrivAgeSq     -0.000039                  -0.059607\n22                         LicAgeSq      0.000000                   0.000000\n23                     BonusMalusSq      0.000000                   0.000000\n24                       DrivAgeLog      0.144059                   0.046416\n25                        LicAgeLog     -0.316239                  -0.197662\n26                    BonusMalusLog      0.451833                   0.099507",
      "text/html": "<div>\n<style scoped>\n    .dataframe tbody tr th:only-of-type {\n        vertical-align: middle;\n    }\n\n    .dataframe tbody tr th {\n        vertical-align: top;\n    }\n\n    .dataframe thead th {\n        text-align: right;\n    }\n</style>\n<table border=\"1\" class=\"dataframe\">\n  <thead>\n    <tr style=\"text-align: right;\">\n      <th></th>\n      <th>names</th>\n      <th>coefficients</th>\n      <th>standardized_coefficients</th>\n    </tr>\n  </thead>\n  <tbody>\n    <tr>\n      <th>0</th>\n      <td>Intercept</td>\n      <td>-4.132658</td>\n      <td>-2.430618</td>\n    </tr>\n    <tr>\n      <th>1</th>\n      <td>Exposure</td>\n      <td>2.105119</td>\n      <td>0.608827</td>\n    </tr>\n    <tr>\n      <th>2</th>\n      <td>LicAge</td>\n      <td>0.000769</td>\n      <td>0.122768</td>\n    </tr>\n    <tr>\n      <th>3</th>\n      <td>Gender</td>\n      <td>0.000000</td>\n      <td>0.000000</td>\n    </tr>\n    <tr>\n      <th>4</th>\n      <td>MariStat</td>\n      <td>-0.107308</td>\n      <td>-0.038657</td>\n    </tr>\n    <tr>\n      <th>5</th>\n      <td>DrivAge</td>\n      <td>0.000000</td>\n      <td>0.000000</td>\n    </tr>\n    <tr>\n      <th>6</th>\n      <td>HasKmLimit</td>\n      <td>-0.344011</td>\n      <td>-0.107431</td>\n    </tr>\n    <tr>\n      <th>7</th>\n      <td>BonusMalus</td>\n      <td>0.000000</td>\n      <td>0.000000</td>\n    </tr>\n    <tr>\n      <th>8</th>\n      <td>OutUseNb</td>\n      <td>0.093155</td>\n      <td>0.064809</td>\n    </tr>\n    <tr>\n      <th>9</th>\n      <td>RiskArea</td>\n      <td>0.006938</td>\n      <td>0.015372</td>\n    </tr>\n    <tr>\n      <th>10</th>\n      <td>VehUsage_Private</td>\n      <td>-0.116562</td>\n      <td>-0.055120</td>\n    </tr>\n    <tr>\n      <th>11</th>\n      <td>VehUsage_Private+trip to office</td>\n      <td>0.000000</td>\n      <td>0.000000</td>\n    </tr>\n    <tr>\n      <th>12</th>\n      <td>VehUsage_Professional</td>\n      <td>0.244238</td>\n      <td>0.080720</td>\n    </tr>\n    <tr>\n      <th>13</th>\n      <td>VehUsage_Professional run</td>\n      <td>0.322394</td>\n      <td>0.043253</td>\n    </tr>\n    <tr>\n      <th>14</th>\n      <td>SocioCateg_CSP1</td>\n      <td>-0.109096</td>\n      <td>-0.016530</td>\n    </tr>\n    <tr>\n      <th>15</th>\n      <td>SocioCateg_CSP2</td>\n      <td>-0.263578</td>\n      <td>-0.043911</td>\n    </tr>\n    <tr>\n      <th>16</th>\n      <td>SocioCateg_CSP3</td>\n      <td>0.120054</td>\n      <td>0.012454</td>\n    </tr>\n    <tr>\n      <th>17</th>\n      <td>SocioCateg_CSP4</td>\n      <td>0.031232</td>\n      <td>0.007810</td>\n    </tr>\n    <tr>\n      <th>18</th>\n      <td>SocioCateg_CSP5</td>\n      <td>-0.000633</td>\n      <td>-0.000301</td>\n    </tr>\n    <tr>\n      <th>19</th>\n      <td>SocioCateg_CSP6</td>\n      <td>0.011788</td>\n      <td>0.004842</td>\n    </tr>\n    <tr>\n      <th>20</th>\n      <td>SocioCateg_CSP7</td>\n      <td>-0.110944</td>\n      <td>-0.001172</td>\n    </tr>\n    <tr>\n      <th>21</th>\n      <td>DrivAgeSq</td>\n      <td>-0.000039</td>\n      <td>-0.059607</td>\n    </tr>\n    <tr>\n      <th>22</th>\n      <td>LicAgeSq</td>\n      <td>0.000000</td>\n      <td>0.000000</td>\n    </tr>\n    <tr>\n      <th>23</th>\n      <td>BonusMalusSq</td>\n      <td>0.000000</td>\n      <td>0.000000</td>\n    </tr>\n    <tr>\n      <th>24</th>\n      <td>DrivAgeLog</td>\n      <td>0.144059</td>\n      <td>0.046416</td>\n    </tr>\n    <tr>\n      <th>25</th>\n      <td>LicAgeLog</td>\n      <td>-0.316239</td>\n      <td>-0.197662</td>\n    </tr>\n    <tr>\n      <th>26</th>\n      <td>BonusMalusLog</td>\n      <td>0.451833</td>\n      <td>0.099507</td>\n    </tr>\n  </tbody>\n</table>\n</div>"
     },
     "execution_count": 49,
     "metadata": {},
     "output_type": "execute_result"
    }
   ],
   "source": [
    "# Таблица коэффициентов модели (в зависимости от модели могут выводиться также стандартная ошибка, z-score и p-value)\n",
    "\n",
    "glm._model_json['output']['coefficients_table'].as_data_frame()"
   ],
   "metadata": {
    "collapsed": false,
    "pycharm": {
     "name": "#%%\n"
    }
   }
  },
  {
   "cell_type": "code",
   "execution_count": 50,
   "outputs": [
    {
     "data": {
      "text/plain": "                                 overall        0        1        2        3  \\\nBonusMalus                       0.00000  0.00000  0.02037  0.00000  0.00317   \nBonusMalusLog                    0.09951  0.11439  0.06613  0.15388  0.07437   \nBonusMalusSq                     0.00000 -0.02545  0.00000 -0.03802  0.02173   \nDrivAge                          0.00000  0.00000  0.00000  0.00000  0.00000   \nDrivAgeLog                       0.04642  0.00000  0.04137  0.03255  0.09013   \nDrivAgeSq                       -0.05961 -0.03132 -0.02739 -0.05848 -0.11243   \nExposure                         0.60883  0.61160  0.60095  0.61303  0.61063   \nGender                           0.00000  0.00000  0.00280 -0.00882  0.00311   \nHasKmLimit                      -0.10743 -0.11808 -0.10737 -0.10736 -0.10347   \nIntercept                       -2.43062 -2.44175 -2.43145 -2.42417 -2.43191   \nLicAge                           0.12277  0.12921  0.06708  0.12736  0.16097   \nLicAgeLog                       -0.19766 -0.19190 -0.18040 -0.17293 -0.24020   \nLicAgeSq                         0.00000  0.00000  0.01281  0.00000  0.00000   \nMariStat                        -0.03866 -0.04389 -0.02844 -0.02649 -0.05856   \nOutUseNb                         0.06481  0.05944  0.06491  0.06543  0.05845   \nRiskArea                         0.01537  0.02485  0.00684  0.01733  0.01358   \nSocioCateg_CSP1                 -0.01653 -0.01152 -0.01391 -0.02099 -0.00728   \nSocioCateg_CSP2                 -0.04391 -0.04772 -0.05883 -0.03714 -0.03567   \nSocioCateg_CSP3                  0.01245  0.01138  0.02208  0.02483  0.01100   \nSocioCateg_CSP4                  0.00781  0.00915  0.00994  0.00357  0.01090   \nSocioCateg_CSP5                 -0.00030  0.00000  0.00000  0.00000  0.00000   \nSocioCateg_CSP6                  0.00484  0.00483 -0.00240  0.00905  0.00969   \nSocioCateg_CSP7                 -0.00117 -0.02114 -0.00038  0.00000  0.00145   \nVehUsage_Private                -0.05512 -0.05394 -0.04684 -0.06125 -0.06224   \nVehUsage_Private+trip to office  0.00000  0.00000  0.00000  0.00000  0.00000   \nVehUsage_Professional            0.08072  0.07904  0.07372  0.07734  0.08675   \nVehUsage_Professional run        0.04325  0.03125  0.05490  0.04317  0.04300   \n\n                                       4  \nBonusMalus                       0.02658  \nBonusMalusLog                    0.05523  \nBonusMalusSq                     0.01426  \nDrivAge                          0.00541  \nDrivAgeLog                       0.01683  \nDrivAgeSq                       -0.02036  \nExposure                         0.60700  \nGender                           0.00315  \nHasKmLimit                      -0.10127  \nIntercept                       -2.42423  \nLicAge                           0.02438  \nLicAgeLog                       -0.13543  \nLicAgeSq                         0.02592  \nMariStat                        -0.03511  \nOutUseNb                         0.07490  \nRiskArea                         0.01366  \nSocioCateg_CSP1                 -0.02483  \nSocioCateg_CSP2                 -0.03556  \nSocioCateg_CSP3                 -0.00520  \nSocioCateg_CSP4                  0.01023  \nSocioCateg_CSP5                  0.00557  \nSocioCateg_CSP6                  0.00772  \nSocioCateg_CSP7                 -0.00115  \nVehUsage_Private                -0.05931  \nVehUsage_Private+trip to office -0.00607  \nVehUsage_Professional            0.08095  \nVehUsage_Professional run        0.04106  ",
      "text/html": "<div>\n<style scoped>\n    .dataframe tbody tr th:only-of-type {\n        vertical-align: middle;\n    }\n\n    .dataframe tbody tr th {\n        vertical-align: top;\n    }\n\n    .dataframe thead th {\n        text-align: right;\n    }\n</style>\n<table border=\"1\" class=\"dataframe\">\n  <thead>\n    <tr style=\"text-align: right;\">\n      <th></th>\n      <th>overall</th>\n      <th>0</th>\n      <th>1</th>\n      <th>2</th>\n      <th>3</th>\n      <th>4</th>\n    </tr>\n  </thead>\n  <tbody>\n    <tr>\n      <th>BonusMalus</th>\n      <td>0.00000</td>\n      <td>0.00000</td>\n      <td>0.02037</td>\n      <td>0.00000</td>\n      <td>0.00317</td>\n      <td>0.02658</td>\n    </tr>\n    <tr>\n      <th>BonusMalusLog</th>\n      <td>0.09951</td>\n      <td>0.11439</td>\n      <td>0.06613</td>\n      <td>0.15388</td>\n      <td>0.07437</td>\n      <td>0.05523</td>\n    </tr>\n    <tr>\n      <th>BonusMalusSq</th>\n      <td>0.00000</td>\n      <td>-0.02545</td>\n      <td>0.00000</td>\n      <td>-0.03802</td>\n      <td>0.02173</td>\n      <td>0.01426</td>\n    </tr>\n    <tr>\n      <th>DrivAge</th>\n      <td>0.00000</td>\n      <td>0.00000</td>\n      <td>0.00000</td>\n      <td>0.00000</td>\n      <td>0.00000</td>\n      <td>0.00541</td>\n    </tr>\n    <tr>\n      <th>DrivAgeLog</th>\n      <td>0.04642</td>\n      <td>0.00000</td>\n      <td>0.04137</td>\n      <td>0.03255</td>\n      <td>0.09013</td>\n      <td>0.01683</td>\n    </tr>\n    <tr>\n      <th>DrivAgeSq</th>\n      <td>-0.05961</td>\n      <td>-0.03132</td>\n      <td>-0.02739</td>\n      <td>-0.05848</td>\n      <td>-0.11243</td>\n      <td>-0.02036</td>\n    </tr>\n    <tr>\n      <th>Exposure</th>\n      <td>0.60883</td>\n      <td>0.61160</td>\n      <td>0.60095</td>\n      <td>0.61303</td>\n      <td>0.61063</td>\n      <td>0.60700</td>\n    </tr>\n    <tr>\n      <th>Gender</th>\n      <td>0.00000</td>\n      <td>0.00000</td>\n      <td>0.00280</td>\n      <td>-0.00882</td>\n      <td>0.00311</td>\n      <td>0.00315</td>\n    </tr>\n    <tr>\n      <th>HasKmLimit</th>\n      <td>-0.10743</td>\n      <td>-0.11808</td>\n      <td>-0.10737</td>\n      <td>-0.10736</td>\n      <td>-0.10347</td>\n      <td>-0.10127</td>\n    </tr>\n    <tr>\n      <th>Intercept</th>\n      <td>-2.43062</td>\n      <td>-2.44175</td>\n      <td>-2.43145</td>\n      <td>-2.42417</td>\n      <td>-2.43191</td>\n      <td>-2.42423</td>\n    </tr>\n    <tr>\n      <th>LicAge</th>\n      <td>0.12277</td>\n      <td>0.12921</td>\n      <td>0.06708</td>\n      <td>0.12736</td>\n      <td>0.16097</td>\n      <td>0.02438</td>\n    </tr>\n    <tr>\n      <th>LicAgeLog</th>\n      <td>-0.19766</td>\n      <td>-0.19190</td>\n      <td>-0.18040</td>\n      <td>-0.17293</td>\n      <td>-0.24020</td>\n      <td>-0.13543</td>\n    </tr>\n    <tr>\n      <th>LicAgeSq</th>\n      <td>0.00000</td>\n      <td>0.00000</td>\n      <td>0.01281</td>\n      <td>0.00000</td>\n      <td>0.00000</td>\n      <td>0.02592</td>\n    </tr>\n    <tr>\n      <th>MariStat</th>\n      <td>-0.03866</td>\n      <td>-0.04389</td>\n      <td>-0.02844</td>\n      <td>-0.02649</td>\n      <td>-0.05856</td>\n      <td>-0.03511</td>\n    </tr>\n    <tr>\n      <th>OutUseNb</th>\n      <td>0.06481</td>\n      <td>0.05944</td>\n      <td>0.06491</td>\n      <td>0.06543</td>\n      <td>0.05845</td>\n      <td>0.07490</td>\n    </tr>\n    <tr>\n      <th>RiskArea</th>\n      <td>0.01537</td>\n      <td>0.02485</td>\n      <td>0.00684</td>\n      <td>0.01733</td>\n      <td>0.01358</td>\n      <td>0.01366</td>\n    </tr>\n    <tr>\n      <th>SocioCateg_CSP1</th>\n      <td>-0.01653</td>\n      <td>-0.01152</td>\n      <td>-0.01391</td>\n      <td>-0.02099</td>\n      <td>-0.00728</td>\n      <td>-0.02483</td>\n    </tr>\n    <tr>\n      <th>SocioCateg_CSP2</th>\n      <td>-0.04391</td>\n      <td>-0.04772</td>\n      <td>-0.05883</td>\n      <td>-0.03714</td>\n      <td>-0.03567</td>\n      <td>-0.03556</td>\n    </tr>\n    <tr>\n      <th>SocioCateg_CSP3</th>\n      <td>0.01245</td>\n      <td>0.01138</td>\n      <td>0.02208</td>\n      <td>0.02483</td>\n      <td>0.01100</td>\n      <td>-0.00520</td>\n    </tr>\n    <tr>\n      <th>SocioCateg_CSP4</th>\n      <td>0.00781</td>\n      <td>0.00915</td>\n      <td>0.00994</td>\n      <td>0.00357</td>\n      <td>0.01090</td>\n      <td>0.01023</td>\n    </tr>\n    <tr>\n      <th>SocioCateg_CSP5</th>\n      <td>-0.00030</td>\n      <td>0.00000</td>\n      <td>0.00000</td>\n      <td>0.00000</td>\n      <td>0.00000</td>\n      <td>0.00557</td>\n    </tr>\n    <tr>\n      <th>SocioCateg_CSP6</th>\n      <td>0.00484</td>\n      <td>0.00483</td>\n      <td>-0.00240</td>\n      <td>0.00905</td>\n      <td>0.00969</td>\n      <td>0.00772</td>\n    </tr>\n    <tr>\n      <th>SocioCateg_CSP7</th>\n      <td>-0.00117</td>\n      <td>-0.02114</td>\n      <td>-0.00038</td>\n      <td>0.00000</td>\n      <td>0.00145</td>\n      <td>-0.00115</td>\n    </tr>\n    <tr>\n      <th>VehUsage_Private</th>\n      <td>-0.05512</td>\n      <td>-0.05394</td>\n      <td>-0.04684</td>\n      <td>-0.06125</td>\n      <td>-0.06224</td>\n      <td>-0.05931</td>\n    </tr>\n    <tr>\n      <th>VehUsage_Private+trip to office</th>\n      <td>0.00000</td>\n      <td>0.00000</td>\n      <td>0.00000</td>\n      <td>0.00000</td>\n      <td>0.00000</td>\n      <td>-0.00607</td>\n    </tr>\n    <tr>\n      <th>VehUsage_Professional</th>\n      <td>0.08072</td>\n      <td>0.07904</td>\n      <td>0.07372</td>\n      <td>0.07734</td>\n      <td>0.08675</td>\n      <td>0.08095</td>\n    </tr>\n    <tr>\n      <th>VehUsage_Professional run</th>\n      <td>0.04325</td>\n      <td>0.03125</td>\n      <td>0.05490</td>\n      <td>0.04317</td>\n      <td>0.04300</td>\n      <td>0.04106</td>\n    </tr>\n  </tbody>\n</table>\n</div>"
     },
     "execution_count": 50,
     "metadata": {},
     "output_type": "execute_result"
    }
   ],
   "source": [
    "# Таблица нормированных коэффициентов по всем данным и на кросс-валидации\n",
    "\n",
    "pmodels = {}\n",
    "pmodels['overall'] = glm.coef_norm()\n",
    "for x in range(len(glm.cross_validation_models())):\n",
    "    pmodels[x] = glm.cross_validation_models()[x].coef_norm()\n",
    "pd.DataFrame.from_dict(pmodels).round(5)"
   ],
   "metadata": {
    "collapsed": false,
    "pycharm": {
     "name": "#%%\n"
    }
   }
  },
  {
   "cell_type": "code",
   "execution_count": 51,
   "outputs": [
    {
     "name": "stdout",
     "output_type": "stream",
     "text": [
      "glm prediction progress: |████████████████████████████████████████████████| 100%\n",
      "glm prediction progress: |████████████████████████████████████████████████| 100%\n",
      "glm prediction progress: |████████████████████████████████████████████████| 100%\n"
     ]
    }
   ],
   "source": [
    "# Построение прогнозных значений для обучающей, валидационной и тестовой выборок\n",
    "\n",
    "train_pred = glm.predict(h2o_train).as_data_frame()\n",
    "valid_pred = glm.predict(h2o_valid).as_data_frame()\n",
    "test_pred = glm.predict(h2o_test).as_data_frame()"
   ],
   "metadata": {
    "collapsed": false,
    "pycharm": {
     "name": "#%%\n"
    }
   }
  },
  {
   "cell_type": "code",
   "execution_count": 54,
   "outputs": [
    {
     "name": "stdout",
     "output_type": "stream",
     "text": [
      "Train Accuracy: 0.7166\n",
      "\n",
      "          Valid Accuracy: 0.7179\n",
      "\n",
      "          Test Accuracy: 0.7164\n",
      "\n",
      "Train F1: 0.2507\n",
      "\n",
      "          Valid F1: 0.2509\n",
      "\n",
      "          Test F1: 0.256\n",
      "\n",
      "Train Precision: 0.1672\n",
      "\n",
      "          Valid Precision: 0.1667\n",
      "\n",
      "          Test Precision: 0.17\n",
      "\n",
      "Train Recall: 0.5006\n",
      "\n",
      "          Valid Recall: 0.5071\n",
      "\n",
      "          Test Recall: 0.5188\n",
      "\n",
      "Train ROC AUC: 0.6858\n",
      "\n",
      "          Valid ROC AUC: 0.6842\n",
      "\n",
      "          Test ROC AUC: 0.6925\n",
      "\n",
      "Train Log Loss: 0.2952\n",
      "\n",
      "          Valid Log Loss: 0.2922\n",
      "\n",
      "          Test Log Loss: 0.2924\n",
      "\n"
     ]
    }
   ],
   "source": [
    "\n",
    "# Выведем импортированные выше метрики классификации для обучающей, валидационной и тестовой выборок\n",
    "\n",
    "print(f\"\"\"Train Accuracy: {np.round(accuracy_score(y_train, train_pred[\"predict\"].values), 4)}\\n\n",
    "          Valid Accuracy: {np.round(accuracy_score(y_valid, valid_pred[\"predict\"].values), 4)}\\n\n",
    "          Test Accuracy: {np.round(accuracy_score(y_test, test_pred[\"predict\"].values), 4)}\\n\"\"\")\n",
    "\n",
    "\n",
    "print(f\"\"\"Train F1: {np.round(f1_score(y_train, train_pred[\"predict\"].values), 4)}\\n\n",
    "          Valid F1: {np.round(f1_score(y_valid, valid_pred[\"predict\"].values), 4)}\\n\n",
    "          Test F1: {np.round(f1_score(y_test, test_pred[\"predict\"].values), 4)}\\n\"\"\")\n",
    "\n",
    "print(f\"\"\"Train Precision: {np.round(precision_score(y_train, train_pred[\"predict\"].values), 4)}\\n\n",
    "          Valid Precision: {np.round(precision_score(y_valid, valid_pred[\"predict\"].values), 4)}\\n\n",
    "          Test Precision: {np.round(precision_score(y_test, test_pred[\"predict\"].values), 4)}\\n\"\"\")\n",
    "\n",
    "print(f\"\"\"Train Recall: {np.round(recall_score(y_train, train_pred[\"predict\"].values), 4)}\\n\n",
    "          Valid Recall: {np.round(recall_score(y_valid, valid_pred[\"predict\"].values), 4)}\\n\n",
    "          Test Recall: {np.round(recall_score(y_test, test_pred[\"predict\"].values), 4)}\\n\"\"\")\n",
    "\n",
    "print(f\"\"\"Train ROC AUC: {np.round(roc_auc_score(y_train, train_pred[\"p1\"].values), 4)}\\n\n",
    "          Valid ROC AUC: {np.round(roc_auc_score(y_valid, valid_pred[\"p1\"].values), 4)}\\n\n",
    "          Test ROC AUC: {np.round(roc_auc_score(y_test, test_pred[\"p1\"].values), 4)}\\n\"\"\")\n",
    "\n",
    "print(f\"\"\"Train Log Loss: {np.round(log_loss(y_train, train_pred[\"p1\"].values), 4)}\\n\n",
    "          Valid Log Loss: {np.round(log_loss(y_valid, valid_pred[\"p1\"].values), 4)}\\n\n",
    "          Test Log Loss: {np.round(log_loss(y_test, test_pred[\"p1\"].values), 4)}\\n\"\"\")"
   ],
   "metadata": {
    "collapsed": false,
    "pycharm": {
     "name": "#%%\n"
    }
   }
  },
  {
   "cell_type": "markdown",
   "source": [
    "_Судя по результатам, можно было бы почистить данные получше (в основном обратить внимание на поле Precision), попробовать изменить гипперпараметры модели, попробовать дугую модель и т.д._\n",
    "\n"
   ],
   "metadata": {
    "collapsed": false,
    "pycharm": {
     "name": "#%% md\n"
    }
   }
  },
  {
   "cell_type": "code",
   "execution_count": null,
   "outputs": [],
   "source": [],
   "metadata": {
    "collapsed": false,
    "pycharm": {
     "name": "#%%\n"
    }
   }
  }
 ],
 "metadata": {
  "kernelspec": {
   "display_name": "Python 3",
   "language": "python",
   "name": "python3"
  },
  "language_info": {
   "codemirror_mode": {
    "name": "ipython",
    "version": 2
   },
   "file_extension": ".py",
   "mimetype": "text/x-python",
   "name": "python",
   "nbconvert_exporter": "python",
   "pygments_lexer": "ipython2",
   "version": "2.7.6"
  }
 },
 "nbformat": 4,
 "nbformat_minor": 0
}