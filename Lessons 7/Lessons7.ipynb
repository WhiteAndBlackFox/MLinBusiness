{
 "cells": [
  {
   "cell_type": "markdown",
   "metadata": {
    "collapsed": true,
    "pycharm": {
     "name": "#%% md\n"
    }
   },
   "source": [
    "# Урок 7. Интерпретация прогнозов модели (SHAP): объясняем поведение модели на отдельных наблюдениях"
   ]
  },
  {
   "cell_type": "code",
   "execution_count": 19,
   "outputs": [],
   "source": [
    "# Подключаем библиотеки\n",
    "\n",
    "import pandas as pd\n",
    "import functions as func"
   ],
   "metadata": {
    "collapsed": false,
    "pycharm": {
     "name": "#%%\n"
    }
   }
  },
  {
   "cell_type": "markdown",
   "source": [
    "## 1. Построить обобщенную линейную модель (GLM) для прогнозирования наступления страховых случаев на рассмотренных в ноутбуке данных.\n",
    "## 2. Построить обобщенную линейную модель (GLM) для прогнозирования наступления страховых случаев на рассмотренных в ноутбуке данных.\n",
    "## 3. Подобрать необходимое распределение и тип связи, при необходимости ознакомиться с документацией H2O.\n",
    "## 4. Придумать и использовать дополнительные факторы при построении модели (например, пересечения признаков или функции от них и т.д.).\n",
    "## 5. Оценить результаты построенной модели при помощи различных метрик (можно использовать и другие метрики помимо представленных в ноутбуке), проанализировать вероятные проблемы.\n",
    "## 6. Предложить способы их решения и/или попробовать их решить, улучшив результат"
   ],
   "metadata": {
    "collapsed": false,
    "pycharm": {
     "name": "#%% md\n"
    }
   }
  },
  {
   "cell_type": "code",
   "execution_count": 20,
   "outputs": [],
   "source": [
    "df = pd.read_csv('freMPL-R.csv', low_memory = False)"
   ],
   "metadata": {
    "collapsed": false,
    "pycharm": {
     "name": "#%%\n"
    }
   }
  },
  {
   "cell_type": "code",
   "execution_count": 21,
   "outputs": [],
   "source": [
    "df = df.loc[df.Dataset.isin([5, 6, 7, 8, 9])]\n",
    "df.drop('Dataset', axis = 1, inplace = True)\n",
    "df.dropna(axis = 1, how = 'all', inplace = True)\n",
    "df.drop_duplicates(inplace = True)\n",
    "df.reset_index(drop = True, inplace = True)"
   ],
   "metadata": {
    "collapsed": false,
    "pycharm": {
     "name": "#%%\n"
    }
   }
  },
  {
   "cell_type": "code",
   "execution_count": 22,
   "outputs": [
    {
     "name": "stdout",
     "output_type": "stream",
     "text": [
      "<class 'pandas.core.frame.DataFrame'>\n",
      "RangeIndex: 115155 entries, 0 to 115154\n",
      "Data columns (total 20 columns):\n",
      "Exposure             115155 non-null float64\n",
      "LicAge               115155 non-null int64\n",
      "RecordBeg            115155 non-null object\n",
      "RecordEnd            59455 non-null object\n",
      "Gender               115155 non-null object\n",
      "MariStat             115155 non-null object\n",
      "SocioCateg           115155 non-null object\n",
      "VehUsage             115155 non-null object\n",
      "DrivAge              115155 non-null int64\n",
      "HasKmLimit           115155 non-null int64\n",
      "BonusMalus           115155 non-null int64\n",
      "ClaimAmount          115155 non-null float64\n",
      "ClaimInd             115155 non-null int64\n",
      "ClaimNbResp          115155 non-null float64\n",
      "ClaimNbNonResp       115155 non-null float64\n",
      "ClaimNbParking       115155 non-null float64\n",
      "ClaimNbFireTheft     115155 non-null float64\n",
      "ClaimNbWindscreen    115155 non-null float64\n",
      "OutUseNb             115155 non-null float64\n",
      "RiskArea             115155 non-null float64\n",
      "dtypes: float64(9), int64(5), object(6)\n",
      "memory usage: 14.9+ MB\n"
     ]
    }
   ],
   "source": [
    "df.info()"
   ],
   "metadata": {
    "collapsed": false,
    "pycharm": {
     "name": "#%%\n"
    }
   }
  },
  {
   "cell_type": "code",
   "execution_count": 23,
   "outputs": [
    {
     "data": {
      "text/plain": "   Exposure  LicAge   RecordBeg   RecordEnd  Gender MariStat SocioCateg  \\\n0     0.083     332  2004-01-01  2004-02-01    Male    Other      CSP50   \n1     0.916     333  2004-02-01         NaN    Male    Other      CSP50   \n2     0.550     173  2004-05-15  2004-12-03    Male    Other      CSP50   \n3     0.089     364  2004-11-29         NaN  Female    Other      CSP55   \n4     0.233     426  2004-02-07  2004-05-01    Male    Other      CSP60   \n\n                 VehUsage  DrivAge  HasKmLimit  BonusMalus  ClaimAmount  \\\n0            Professional       46           0          50          0.0   \n1            Professional       46           0          50          0.0   \n2  Private+trip to office       32           0          68          0.0   \n3  Private+trip to office       52           0          50          0.0   \n4                 Private       57           0          50          0.0   \n\n   ClaimInd  ClaimNbResp  ClaimNbNonResp  ClaimNbParking  ClaimNbFireTheft  \\\n0         0          0.0             1.0             0.0               0.0   \n1         0          0.0             1.0             0.0               0.0   \n2         0          0.0             2.0             0.0               0.0   \n3         0          0.0             0.0             0.0               0.0   \n4         0          0.0             0.0             0.0               0.0   \n\n   ClaimNbWindscreen  OutUseNb  RiskArea  \n0                0.0       0.0       9.0  \n1                0.0       0.0       9.0  \n2                0.0       0.0       7.0  \n3                0.0       0.0       8.0  \n4                0.0       0.0       7.0  ",
      "text/html": "<div>\n<style scoped>\n    .dataframe tbody tr th:only-of-type {\n        vertical-align: middle;\n    }\n\n    .dataframe tbody tr th {\n        vertical-align: top;\n    }\n\n    .dataframe thead th {\n        text-align: right;\n    }\n</style>\n<table border=\"1\" class=\"dataframe\">\n  <thead>\n    <tr style=\"text-align: right;\">\n      <th></th>\n      <th>Exposure</th>\n      <th>LicAge</th>\n      <th>RecordBeg</th>\n      <th>RecordEnd</th>\n      <th>Gender</th>\n      <th>MariStat</th>\n      <th>SocioCateg</th>\n      <th>VehUsage</th>\n      <th>DrivAge</th>\n      <th>HasKmLimit</th>\n      <th>BonusMalus</th>\n      <th>ClaimAmount</th>\n      <th>ClaimInd</th>\n      <th>ClaimNbResp</th>\n      <th>ClaimNbNonResp</th>\n      <th>ClaimNbParking</th>\n      <th>ClaimNbFireTheft</th>\n      <th>ClaimNbWindscreen</th>\n      <th>OutUseNb</th>\n      <th>RiskArea</th>\n    </tr>\n  </thead>\n  <tbody>\n    <tr>\n      <th>0</th>\n      <td>0.083</td>\n      <td>332</td>\n      <td>2004-01-01</td>\n      <td>2004-02-01</td>\n      <td>Male</td>\n      <td>Other</td>\n      <td>CSP50</td>\n      <td>Professional</td>\n      <td>46</td>\n      <td>0</td>\n      <td>50</td>\n      <td>0.0</td>\n      <td>0</td>\n      <td>0.0</td>\n      <td>1.0</td>\n      <td>0.0</td>\n      <td>0.0</td>\n      <td>0.0</td>\n      <td>0.0</td>\n      <td>9.0</td>\n    </tr>\n    <tr>\n      <th>1</th>\n      <td>0.916</td>\n      <td>333</td>\n      <td>2004-02-01</td>\n      <td>NaN</td>\n      <td>Male</td>\n      <td>Other</td>\n      <td>CSP50</td>\n      <td>Professional</td>\n      <td>46</td>\n      <td>0</td>\n      <td>50</td>\n      <td>0.0</td>\n      <td>0</td>\n      <td>0.0</td>\n      <td>1.0</td>\n      <td>0.0</td>\n      <td>0.0</td>\n      <td>0.0</td>\n      <td>0.0</td>\n      <td>9.0</td>\n    </tr>\n    <tr>\n      <th>2</th>\n      <td>0.550</td>\n      <td>173</td>\n      <td>2004-05-15</td>\n      <td>2004-12-03</td>\n      <td>Male</td>\n      <td>Other</td>\n      <td>CSP50</td>\n      <td>Private+trip to office</td>\n      <td>32</td>\n      <td>0</td>\n      <td>68</td>\n      <td>0.0</td>\n      <td>0</td>\n      <td>0.0</td>\n      <td>2.0</td>\n      <td>0.0</td>\n      <td>0.0</td>\n      <td>0.0</td>\n      <td>0.0</td>\n      <td>7.0</td>\n    </tr>\n    <tr>\n      <th>3</th>\n      <td>0.089</td>\n      <td>364</td>\n      <td>2004-11-29</td>\n      <td>NaN</td>\n      <td>Female</td>\n      <td>Other</td>\n      <td>CSP55</td>\n      <td>Private+trip to office</td>\n      <td>52</td>\n      <td>0</td>\n      <td>50</td>\n      <td>0.0</td>\n      <td>0</td>\n      <td>0.0</td>\n      <td>0.0</td>\n      <td>0.0</td>\n      <td>0.0</td>\n      <td>0.0</td>\n      <td>0.0</td>\n      <td>8.0</td>\n    </tr>\n    <tr>\n      <th>4</th>\n      <td>0.233</td>\n      <td>426</td>\n      <td>2004-02-07</td>\n      <td>2004-05-01</td>\n      <td>Male</td>\n      <td>Other</td>\n      <td>CSP60</td>\n      <td>Private</td>\n      <td>57</td>\n      <td>0</td>\n      <td>50</td>\n      <td>0.0</td>\n      <td>0</td>\n      <td>0.0</td>\n      <td>0.0</td>\n      <td>0.0</td>\n      <td>0.0</td>\n      <td>0.0</td>\n      <td>0.0</td>\n      <td>7.0</td>\n    </tr>\n  </tbody>\n</table>\n</div>"
     },
     "execution_count": 23,
     "metadata": {},
     "output_type": "execute_result"
    }
   ],
   "source": [
    "df.head()"
   ],
   "metadata": {
    "collapsed": false,
    "pycharm": {
     "name": "#%%\n"
    }
   }
  },
  {
   "cell_type": "code",
   "execution_count": 24,
   "outputs": [
    {
     "name": "stdout",
     "output_type": "stream",
     "text": [
      "Unique values of ClaimInd: [0]\n"
     ]
    },
    {
     "data": {
      "text/plain": "     ClaimAmount  ClaimInd\n82    -74.206042         0\n175 -1222.585196         0\n177  -316.288822         0\n363  -666.758610         0\n375 -1201.600604         0",
      "text/html": "<div>\n<style scoped>\n    .dataframe tbody tr th:only-of-type {\n        vertical-align: middle;\n    }\n\n    .dataframe tbody tr th {\n        vertical-align: top;\n    }\n\n    .dataframe thead th {\n        text-align: right;\n    }\n</style>\n<table border=\"1\" class=\"dataframe\">\n  <thead>\n    <tr style=\"text-align: right;\">\n      <th></th>\n      <th>ClaimAmount</th>\n      <th>ClaimInd</th>\n    </tr>\n  </thead>\n  <tbody>\n    <tr>\n      <th>82</th>\n      <td>-74.206042</td>\n      <td>0</td>\n    </tr>\n    <tr>\n      <th>175</th>\n      <td>-1222.585196</td>\n      <td>0</td>\n    </tr>\n    <tr>\n      <th>177</th>\n      <td>-316.288822</td>\n      <td>0</td>\n    </tr>\n    <tr>\n      <th>363</th>\n      <td>-666.758610</td>\n      <td>0</td>\n    </tr>\n    <tr>\n      <th>375</th>\n      <td>-1201.600604</td>\n      <td>0</td>\n    </tr>\n  </tbody>\n</table>\n</div>"
     },
     "execution_count": 24,
     "metadata": {},
     "output_type": "execute_result"
    }
   ],
   "source": [
    "# Т.к. в некоторых наблюдений ранее была замечена отрицательная величина, то для таких полюсов переменная \"ClaimInd\" принимает только значение 0.\n",
    "NegClaimAmount = df.loc[df.ClaimAmount < 0, ['ClaimAmount','ClaimInd']]\n",
    "print('Unique values of ClaimInd:', NegClaimAmount.ClaimInd.unique())\n",
    "df.loc[df.ClaimAmount < 0, 'ClaimAmount'] = 0\n",
    "NegClaimAmount.head()"
   ],
   "metadata": {
    "collapsed": false,
    "pycharm": {
     "name": "#%%\n"
    }
   }
  },
  {
   "cell_type": "code",
   "execution_count": 25,
   "outputs": [],
   "source": [
    "#Заменим все отрицательные значения \"ClaimAmount\" нулями.\n",
    "df.loc[df.ClaimAmount < 0, 'ClaimAmount'] = 0"
   ],
   "metadata": {
    "collapsed": false,
    "pycharm": {
     "name": "#%%\n"
    }
   }
  },
  {
   "cell_type": "code",
   "execution_count": 26,
   "outputs": [
    {
     "name": "stdout",
     "output_type": "stream",
     "text": [
      "{0: 'Male', 1: 'Female'}\n"
     ]
    }
   ],
   "source": [
    "df['Gender'], GenderRef = func.series_factorizer(df.Gender)"
   ],
   "metadata": {
    "collapsed": false,
    "pycharm": {
     "name": "#%%\n"
    }
   }
  },
  {
   "cell_type": "code",
   "execution_count": 27,
   "outputs": [
    {
     "name": "stdout",
     "output_type": "stream",
     "text": [
      "{0: 'Other', 1: 'Alone'}\n"
     ]
    }
   ],
   "source": [
    "df['MariStat'], MariStatRef = func.series_factorizer(df.MariStat)"
   ],
   "metadata": {
    "collapsed": false,
    "pycharm": {
     "name": "#%%\n"
    }
   }
  },
  {
   "cell_type": "code",
   "execution_count": 18,
   "outputs": [
    {
     "data": {
      "text/plain": "['Professional', 'Private+trip to office', 'Private', 'Professional run']"
     },
     "execution_count": 18,
     "metadata": {},
     "output_type": "execute_result"
    }
   ],
   "source": [
    "list(df['VehUsage'].unique())"
   ],
   "metadata": {
    "collapsed": false,
    "pycharm": {
     "name": "#%%\n"
    }
   }
  },
  {
   "cell_type": "code",
   "execution_count": 13,
   "outputs": [
    {
     "data": {
      "text/plain": "   VehUsg_Private  VehUsg_Private+trip to office  VehUsg_Professional  \\\n0               0                              0                    1   \n1               0                              0                    1   \n2               0                              1                    0   \n3               0                              1                    0   \n4               1                              0                    0   \n\n   VehUsg_Professional run  \n0                        0  \n1                        0  \n2                        0  \n3                        0  \n4                        0  ",
      "text/html": "<div>\n<style scoped>\n    .dataframe tbody tr th:only-of-type {\n        vertical-align: middle;\n    }\n\n    .dataframe tbody tr th {\n        vertical-align: top;\n    }\n\n    .dataframe thead th {\n        text-align: right;\n    }\n</style>\n<table border=\"1\" class=\"dataframe\">\n  <thead>\n    <tr style=\"text-align: right;\">\n      <th></th>\n      <th>VehUsg_Private</th>\n      <th>VehUsg_Private+trip to office</th>\n      <th>VehUsg_Professional</th>\n      <th>VehUsg_Professional run</th>\n    </tr>\n  </thead>\n  <tbody>\n    <tr>\n      <th>0</th>\n      <td>0</td>\n      <td>0</td>\n      <td>1</td>\n      <td>0</td>\n    </tr>\n    <tr>\n      <th>1</th>\n      <td>0</td>\n      <td>0</td>\n      <td>1</td>\n      <td>0</td>\n    </tr>\n    <tr>\n      <th>2</th>\n      <td>0</td>\n      <td>1</td>\n      <td>0</td>\n      <td>0</td>\n    </tr>\n    <tr>\n      <th>3</th>\n      <td>0</td>\n      <td>1</td>\n      <td>0</td>\n      <td>0</td>\n    </tr>\n    <tr>\n      <th>4</th>\n      <td>1</td>\n      <td>0</td>\n      <td>0</td>\n      <td>0</td>\n    </tr>\n  </tbody>\n</table>\n</div>"
     },
     "execution_count": 13,
     "metadata": {},
     "output_type": "execute_result"
    }
   ],
   "source": [
    "VU_dummies = pd.get_dummies(df['VehUsage'], prefix = 'VehUsg', drop_first = False)\n",
    "VU_dummies.head()"
   ],
   "metadata": {
    "collapsed": false,
    "pycharm": {
     "name": "#%%\n"
    }
   }
  },
  {
   "cell_type": "code",
   "execution_count": 28,
   "outputs": [
    {
     "data": {
      "text/plain": "      Frequency\nCSP7         14\nCSP3       1210\nCSP1       2740\nCSP2       3254\nCSP4       7648\nCSP6      24833\nCSP5      75456",
      "text/html": "<div>\n<style scoped>\n    .dataframe tbody tr th:only-of-type {\n        vertical-align: middle;\n    }\n\n    .dataframe tbody tr th {\n        vertical-align: top;\n    }\n\n    .dataframe thead th {\n        text-align: right;\n    }\n</style>\n<table border=\"1\" class=\"dataframe\">\n  <thead>\n    <tr style=\"text-align: right;\">\n      <th></th>\n      <th>Frequency</th>\n    </tr>\n  </thead>\n  <tbody>\n    <tr>\n      <th>CSP7</th>\n      <td>14</td>\n    </tr>\n    <tr>\n      <th>CSP3</th>\n      <td>1210</td>\n    </tr>\n    <tr>\n      <th>CSP1</th>\n      <td>2740</td>\n    </tr>\n    <tr>\n      <th>CSP2</th>\n      <td>3254</td>\n    </tr>\n    <tr>\n      <th>CSP4</th>\n      <td>7648</td>\n    </tr>\n    <tr>\n      <th>CSP6</th>\n      <td>24833</td>\n    </tr>\n    <tr>\n      <th>CSP5</th>\n      <td>75456</td>\n    </tr>\n  </tbody>\n</table>\n</div>"
     },
     "execution_count": 28,
     "metadata": {},
     "output_type": "execute_result"
    }
   ],
   "source": [
    "df['SocioCateg'] = df['SocioCateg'].str.slice(0,4)\n",
    "pd.DataFrame(df.SocioCateg.value_counts().sort_values()).rename({'SocioCateg': 'Frequency'}, axis=1)"
   ],
   "metadata": {
    "collapsed": false,
    "pycharm": {
     "name": "#%%\n"
    }
   }
  },
  {
   "cell_type": "code",
   "execution_count": null,
   "outputs": [],
   "source": [],
   "metadata": {
    "collapsed": false,
    "pycharm": {
     "name": "#%%\n"
    }
   }
  }
 ],
 "metadata": {
  "kernelspec": {
   "display_name": "Python 3",
   "language": "python",
   "name": "python3"
  },
  "language_info": {
   "codemirror_mode": {
    "name": "ipython",
    "version": 2
   },
   "file_extension": ".py",
   "mimetype": "text/x-python",
   "name": "python",
   "nbconvert_exporter": "python",
   "pygments_lexer": "ipython2",
   "version": "2.7.6"
  }
 },
 "nbformat": 4,
 "nbformat_minor": 0
}